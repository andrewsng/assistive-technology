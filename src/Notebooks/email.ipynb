{
 "cells": [
  {
   "attachments": {},
   "cell_type": "markdown",
   "metadata": {},
   "source": [
    "# Assistive Technology (2023-03-24)"
   ]
  },
  {
   "attachments": {},
   "cell_type": "markdown",
   "metadata": {},
   "source": [
    "## Email System"
   ]
  },
  {
   "attachments": {},
   "cell_type": "markdown",
   "metadata": {},
   "source": [
    "`Install-Package MailKit`"
   ]
  },
  {
   "cell_type": "code",
   "execution_count": 14,
   "metadata": {
    "dotnet_interactive": {
     "language": "csharp"
    },
    "polyglot_notebook": {
     "kernelName": "csharp"
    },
    "vscode": {
     "languageId": "polyglot-notebook"
    }
   },
   "outputs": [
    {
     "data": {
      "text/html": [
       "<div><div></div><div></div><div><strong>Installed Packages</strong><ul><li><span>DotNetEnv, 2.5.0</span></li><li><span>MailKit, 3.6.0</span></li></ul></div></div>"
      ]
     },
     "metadata": {},
     "output_type": "display_data"
    }
   ],
   "source": [
    "#r \"nuget:MailKit\"\n",
    "#r \"nuget:DotNetEnv\"\n",
    "\n",
    "// Load .env file\n",
    "DotNetEnv.Env.TraversePath().Load();"
   ]
  },
  {
   "attachments": {},
   "cell_type": "markdown",
   "metadata": {},
   "source": [
    "## Receiving Email"
   ]
  },
  {
   "cell_type": "code",
   "execution_count": 15,
   "metadata": {
    "dotnet_interactive": {
     "language": "csharp"
    },
    "polyglot_notebook": {
     "kernelName": "csharp"
    },
    "vscode": {
     "languageId": "polyglot-notebook"
    }
   },
   "outputs": [
    {
     "name": "stdout",
     "output_type": "stream",
     "text": [
      "Total messages: 7\n",
      "Recent messages: 0\n",
      "Subject: Your Google Account is live – now help your business grow\n",
      "Subject: Recovery email verified for your Google Account\n",
      "Subject: 2-Step Verification turned on\n",
      "Subject: Security alert\n",
      "Subject: Hello World\n",
      "Subject: Sample Subject Line\n",
      "Subject: Sample Subject Line\n"
     ]
    }
   ],
   "source": [
    "using MimeKit;\n",
    "using MailKit;\n",
    "using MailKit.Search;\n",
    "using MailKit.Net.Imap;\n",
    "\n",
    "using (var client = new ImapClient ()) {\n",
    "    client.Connect (\"imap.gmail.com\", 993, true);\n",
    "\n",
    "    client.Authenticate (DotNetEnv.Env.GetString(\"EMAIL__ACCOUNT\"), DotNetEnv.Env.GetString(\"APP__PASSWORD\"));\n",
    "\n",
    "    // The Inbox folder is always available on all IMAP servers...\n",
    "    var inbox = client.Inbox;\n",
    "    inbox.Open (FolderAccess.ReadOnly);\n",
    "\n",
    "    Console.WriteLine (\"Total messages: {0}\", inbox.Count);\n",
    "    Console.WriteLine (\"Recent messages: {0}\", inbox.Recent);\n",
    "\n",
    "    for (int i = 0; i < inbox.Count; i++) {\n",
    "        var message = inbox.GetMessage (i);\n",
    "        Console.WriteLine (\"Subject: {0}\", message.Subject);\n",
    "    }\n",
    "\n",
    "    client.Disconnect (true);\n",
    "}"
   ]
  },
  {
   "attachments": {},
   "cell_type": "markdown",
   "metadata": {},
   "source": [
    "## Sending Mail"
   ]
  },
  {
   "cell_type": "code",
   "execution_count": 16,
   "metadata": {
    "dotnet_interactive": {
     "language": "csharp"
    },
    "polyglot_notebook": {
     "kernelName": "csharp"
    },
    "vscode": {
     "languageId": "polyglot-notebook"
    }
   },
   "outputs": [
    {
     "name": "stdout",
     "output_type": "stream",
     "text": [
      ">> Email status here!\n"
     ]
    }
   ],
   "source": [
    "using MailKit.Net.Smtp;\n",
    "using MailKit;\n",
    "using MimeKit;\n",
    "\n",
    "var message = new MimeMessage();\n",
    "message.From.Add(new MailboxAddress(\"Sender Name\", DotNetEnv.Env.GetString(\"EMAIL__ACCOUNT\") + \"@gmail.com\"));\n",
    "message.To.Add(new MailboxAddress(\"Receiver Name\", DotNetEnv.Env.GetString(\"EMAIL__ACCOUNT\") + \"@gmail.com\"));\n",
    "message.Subject = \"Sample Subject Line\";\n",
    "\n",
    "message.Body = new TextPart(\"plain\") {\n",
    "    Text = @\"Lorem ipsum dolor sit amet.\"\n",
    "};\n",
    "\n",
    "using (var client = new SmtpClient()) {\n",
    "    client.Connect(\"smtp.gmail.com\", 587);\n",
    "\n",
    "    client.AuthenticationMechanisms.Remove(\"XOAUTH2\");\n",
    "\n",
    "    // Note: only needed if the SMTP server requires authentication.\n",
    "    client.Authenticate(DotNetEnv.Env.GetString(\"EMAIL__ACCOUNT\"), DotNetEnv.Env.GetString(\"APP__PASSWORD\"));\n",
    "\n",
    "    client.Send(message);\n",
    "    client.Disconnect(true);\n",
    "}\n",
    "\n",
    "Console.WriteLine(\">> Email status here!\");"
   ]
  },
  {
   "attachments": {},
   "cell_type": "markdown",
   "metadata": {},
   "source": [
    "## Gather Data From Specific Email\n",
    "- [ ] Create, address, send\n",
    "- [ ] Check messages\n",
    "- [ ] Read (text-to-speech)\n",
    "- [ ] Delete mail\n",
    "- [ ] Reply "
   ]
  },
  {
   "attachments": {},
   "cell_type": "markdown",
   "metadata": {},
   "source": [
    "#### Checks Email"
   ]
  },
  {
   "cell_type": "code",
   "execution_count": 17,
   "metadata": {
    "dotnet_interactive": {
     "language": "csharp"
    },
    "polyglot_notebook": {
     "kernelName": "csharp"
    },
    "vscode": {
     "languageId": "polyglot-notebook"
    }
   },
   "outputs": [],
   "source": [
    "// TODO: Pull recent emails from Gmail and announce new messages via TTS. "
   ]
  },
  {
   "attachments": {},
   "cell_type": "markdown",
   "metadata": {},
   "source": [
    "#### Deletes Email"
   ]
  },
  {
   "cell_type": "code",
   "execution_count": 18,
   "metadata": {
    "dotnet_interactive": {
     "language": "csharp"
    },
    "polyglot_notebook": {
     "kernelName": "csharp"
    },
    "vscode": {
     "languageId": "polyglot-notebook"
    }
   },
   "outputs": [],
   "source": [
    "// Delete Single Email"
   ]
  },
  {
   "attachments": {},
   "cell_type": "markdown",
   "metadata": {},
   "source": [
    "#### Reads Email Headers"
   ]
  },
  {
   "cell_type": "code",
   "execution_count": null,
   "metadata": {
    "dotnet_interactive": {
     "language": "csharp"
    },
    "polyglot_notebook": {
     "kernelName": "csharp"
    },
    "vscode": {
     "languageId": "polyglot-notebook"
    }
   },
   "outputs": [],
   "source": [
    "// Gather Information from emails\n",
    "\n",
    "using (var client = new ImapClient ()) {\n",
    "    client.Connect (\"imap.gmail.com\", 993, true);\n",
    "\n",
    "    client.Authenticate (DotNetEnv.Env.GetString(\"EMAIL__ACCOUNT\"), DotNetEnv.Env.GetString(\"APP__PASSWORD\"));\n",
    "\n",
    "    // The Inbox folder is always available on all IMAP servers...\n",
    "    var inbox = client.Inbox;\n",
    "    inbox.Open (FolderAccess.ReadOnly);\n",
    "\n",
    "    for (int i = 0; i < inbox.Count; i++) {\n",
    "        var message = inbox.GetMessage (i);\n",
    "        // Console.WriteLine(\"From: {0}\", message.);\n",
    "        // Console.WriteLine (\"Subject: {0}\", message.Subject);\n",
    "    }\n",
    "\n",
    "    // Email Address\n",
    "\n",
    "    // Email Subject\n",
    "\n",
    "    // Email Body\n",
    "\n",
    "    // Email Date\n",
    "\n",
    "    // Email Time\n",
    "\n",
    "    // Email Sender\n",
    "\n",
    "    // Email Recipient\n",
    "\n",
    "    // Email Attachments\n",
    "\n",
    "    client.Disconnect (true);\n",
    "}"
   ]
  },
  {
   "attachments": {},
   "cell_type": "markdown",
   "metadata": {},
   "source": [
    "##### Reads Email"
   ]
  },
  {
   "cell_type": "code",
   "execution_count": 20,
   "metadata": {
    "dotnet_interactive": {
     "language": "csharp"
    },
    "polyglot_notebook": {
     "kernelName": "csharp"
    },
    "vscode": {
     "languageId": "polyglot-notebook"
    }
   },
   "outputs": [],
   "source": []
  },
  {
   "attachments": {},
   "cell_type": "markdown",
   "metadata": {},
   "source": [
    "#### Replies to Email"
   ]
  },
  {
   "cell_type": "code",
   "execution_count": 21,
   "metadata": {
    "dotnet_interactive": {
     "language": "csharp"
    },
    "polyglot_notebook": {
     "kernelName": "csharp"
    },
    "vscode": {
     "languageId": "polyglot-notebook"
    }
   },
   "outputs": [],
   "source": []
  },
  {
   "attachments": {},
   "cell_type": "markdown",
   "metadata": {},
   "source": [
    "#### Adds Email Address to Nickname"
   ]
  },
  {
   "cell_type": "code",
   "execution_count": 22,
   "metadata": {
    "dotnet_interactive": {
     "language": "csharp"
    },
    "polyglot_notebook": {
     "kernelName": "csharp"
    },
    "vscode": {
     "languageId": "polyglot-notebook"
    }
   },
   "outputs": [],
   "source": []
  },
  {
   "attachments": {},
   "cell_type": "markdown",
   "metadata": {},
   "source": [
    "#### Ties Email Address to Nickname"
   ]
  },
  {
   "cell_type": "code",
   "execution_count": 23,
   "metadata": {
    "dotnet_interactive": {
     "language": "csharp"
    },
    "polyglot_notebook": {
     "kernelName": "csharp"
    },
    "vscode": {
     "languageId": "polyglot-notebook"
    }
   },
   "outputs": [],
   "source": []
  },
  {
   "attachments": {},
   "cell_type": "markdown",
   "metadata": {},
   "source": [
    "#### Replies to an Email"
   ]
  },
  {
   "cell_type": "code",
   "execution_count": 24,
   "metadata": {
    "dotnet_interactive": {
     "language": "csharp"
    },
    "polyglot_notebook": {
     "kernelName": "csharp"
    },
    "vscode": {
     "languageId": "polyglot-notebook"
    }
   },
   "outputs": [],
   "source": []
  }
 ],
 "metadata": {
  "language_info": {
   "name": "python"
  },
  "orig_nbformat": 4
 },
 "nbformat": 4,
 "nbformat_minor": 2
}
