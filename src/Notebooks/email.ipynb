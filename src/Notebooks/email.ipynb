{
 "cells": [
  {
   "attachments": {},
   "cell_type": "markdown",
   "metadata": {},
   "source": [
    "# Assistive Technology (2023-03-24)"
   ]
  },
  {
   "attachments": {},
   "cell_type": "markdown",
   "metadata": {},
   "source": [
    "## Email System"
   ]
  },
  {
   "attachments": {},
   "cell_type": "markdown",
   "metadata": {},
   "source": [
    "`Install-Package MailKit`"
   ]
  },
  {
   "cell_type": "code",
   "execution_count": 15,
   "metadata": {
    "dotnet_interactive": {
     "language": "csharp"
    },
    "polyglot_notebook": {
     "kernelName": "csharp"
    },
    "vscode": {
     "languageId": "polyglot-notebook"
    }
   },
   "outputs": [
    {
     "data": {
      "text/html": [
       "<div><div></div><div></div><div><strong>Installed Packages</strong><ul><li><span>DotNetEnv, 2.5.0</span></li><li><span>MailKit, 3.6.0</span></li></ul></div></div>"
      ]
     },
     "metadata": {},
     "output_type": "display_data"
    }
   ],
   "source": [
    "#r \"nuget:MailKit\"\n",
    "#r \"nuget:DotNetEnv\"\n",
    "\n",
    "// Load .env file\n",
    "DotNetEnv.Env.TraversePath().Load();"
   ]
  },
  {
   "attachments": {},
   "cell_type": "markdown",
   "metadata": {},
   "source": [
    "## Recieveing Email"
   ]
  },
  {
   "cell_type": "code",
   "execution_count": 16,
   "metadata": {
    "dotnet_interactive": {
     "language": "csharp"
    },
    "polyglot_notebook": {
     "kernelName": "csharp"
    },
    "vscode": {
     "languageId": "polyglot-notebook"
    }
   },
   "outputs": [
    {
     "name": "stdout",
     "output_type": "stream",
     "text": [
      "Total messages: 3\n",
      "Recent messages: 0\n",
      "Subject: Your Google Account is live – now help your business grow\n",
      "Subject: Recovery email verified for your Google Account\n",
      "Subject: 2-Step Verification turned on\n"
     ]
    }
   ],
   "source": [
    "using MimeKit;\n",
    "using MailKit;\n",
    "using MailKit.Search;\n",
    "using MailKit.Net.Imap;\n",
    "\n",
    "using (var client = new ImapClient ()) {\n",
    "    client.Connect (\"imap.gmail.com\", 993, true);\n",
    "\n",
    "    client.Authenticate (DotNetEnv.Env.GetString(\"EMAIL__ACCOUNT\"), DotNetEnv.Env.GetString(\"APP__PASSWORD\"));\n",
    "\n",
    "    // The Inbox folder is always available on all IMAP servers...\n",
    "    var inbox = client.Inbox;\n",
    "    inbox.Open (FolderAccess.ReadOnly);\n",
    "\n",
    "    Console.WriteLine (\"Total messages: {0}\", inbox.Count);\n",
    "    Console.WriteLine (\"Recent messages: {0}\", inbox.Recent);\n",
    "\n",
    "    for (int i = 0; i < inbox.Count; i++) {\n",
    "        var message = inbox.GetMessage (i);\n",
    "        Console.WriteLine (\"Subject: {0}\", message.Subject);\n",
    "    }\n",
    "\n",
    "    client.Disconnect (true);\n",
    "}"
   ]
  }
 ],
 "metadata": {
  "language_info": {
   "name": "python"
  },
  "orig_nbformat": 4
 },
 "nbformat": 4,
 "nbformat_minor": 2
}
