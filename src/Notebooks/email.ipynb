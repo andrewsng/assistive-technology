{
 "cells": [
  {
   "attachments": {},
   "cell_type": "markdown",
   "metadata": {},
   "source": [
    "# Assistive Technology (2023-03-24)"
   ]
  },
  {
   "attachments": {},
   "cell_type": "markdown",
   "metadata": {},
   "source": [
    "## Email System"
   ]
  },
  {
   "attachments": {},
   "cell_type": "markdown",
   "metadata": {},
   "source": [
    "`Install-Package MailKit`"
   ]
  },
  {
   "cell_type": "code",
   "execution_count": 44,
   "metadata": {
    "dotnet_interactive": {
     "language": "csharp"
    },
    "polyglot_notebook": {
     "kernelName": "csharp"
    },
    "vscode": {
     "languageId": "polyglot-notebook"
    }
   },
   "outputs": [
    {
     "data": {
      "text/html": [
       "<div><div></div><div></div><div><strong>Installed Packages</strong><ul><li><span>DotNetEnv, 2.5.0</span></li><li><span>MailKit, 3.6.0</span></li></ul></div></div>"
      ]
     },
     "metadata": {},
     "output_type": "display_data"
    }
   ],
   "source": [
    "#r \"nuget:MailKit\"\n",
    "#r \"nuget:DotNetEnv\"\n",
    "\n",
    "// Load .env file\n",
    "DotNetEnv.Env.TraversePath().Load();"
   ]
  },
  {
   "attachments": {},
   "cell_type": "markdown",
   "metadata": {},
   "source": [
    "## Receiving Email"
   ]
  },
  {
   "cell_type": "code",
   "execution_count": 45,
   "metadata": {
    "dotnet_interactive": {
     "language": "csharp"
    },
    "polyglot_notebook": {
     "kernelName": "csharp"
    },
    "vscode": {
     "languageId": "polyglot-notebook"
    }
   },
   "outputs": [
    {
     "name": "stdout",
     "output_type": "stream",
     "text": [
      ">> Checking mail server...\n",
      "Total messages: 8\n",
      "Recent messages: 0\n",
      "Subject: Your Google Account is live – now help your business grow\n",
      "Subject: Recovery email verified for your Google Account\n",
      "Subject: 2-Step Verification turned on\n",
      "Subject: Security alert\n",
      "Subject: Hello World\n",
      "Subject: Sample Subject Line\n",
      "Subject: Sample Subject Line\n",
      "Subject: Sample Subject Line\n"
     ]
    }
   ],
   "source": [
    "using MimeKit;\n",
    "using MailKit;\n",
    "using MailKit.Search;\n",
    "using MailKit.Net.Imap;\n",
    "\n",
    "using (var client = new ImapClient ()) {\n",
    "    client.Connect (\"imap.gmail.com\", 993, true);\n",
    "\n",
    "    client.Authenticate(DotNetEnv.Env.GetString(\"EMAIL__ACCOUNT\"), DotNetEnv.Env.GetString(\"APP__PASSWORD\"));\n",
    "\n",
    "    var inbox = client.Inbox;\n",
    "    inbox.Open (FolderAccess.ReadOnly);\n",
    "\n",
    "    Console.WriteLine (\">> Checking mail server...\");\n",
    "\n",
    "    Console.WriteLine (\"Total messages: {0}\", inbox.Count);\n",
    "    Console.WriteLine (\"Recent messages: {0}\", inbox.Recent);\n",
    "\n",
    "    for (int i = 0; i < inbox.Count; i++) {\n",
    "        var message = inbox.GetMessage (i);\n",
    "        Console.WriteLine (\"Subject: {0}\", message.Subject);\n",
    "    }\n",
    "\n",
    "    client.Disconnect (true);\n",
    "}"
   ]
  },
  {
   "attachments": {},
   "cell_type": "markdown",
   "metadata": {},
   "source": [
    "## Sending Mail"
   ]
  },
  {
   "cell_type": "code",
   "execution_count": 46,
   "metadata": {
    "dotnet_interactive": {
     "language": "csharp"
    },
    "polyglot_notebook": {
     "kernelName": "csharp"
    },
    "vscode": {
     "languageId": "polyglot-notebook"
    }
   },
   "outputs": [
    {
     "name": "stdout",
     "output_type": "stream",
     "text": [
      ">> Sent.\n"
     ]
    }
   ],
   "source": [
    "using MailKit.Net.Smtp;\n",
    "using MailKit;\n",
    "using MimeKit;\n",
    "\n",
    "var virtualMorseVersion = \"2023\";\n",
    "\n",
    "var message = new MimeMessage();\n",
    "message.From.Add(new MailboxAddress(\"Sender Name\", DotNetEnv.Env.GetString(\"EMAIL__ACCOUNT\") + \"@gmail.com\"));\n",
    "message.To.Add(new MailboxAddress(\"Receiver Name\", DotNetEnv.Env.GetString(\"EMAIL__ACCOUNT\") + \"@gmail.com\"));\n",
    "message.Subject = \"This message sent with Virtual Morse \" + virtualMorseVersion;\n",
    "\n",
    "message.Body = new TextPart(\"plain\") {\n",
    "    Text = @\"Testing contents of the message.\"\n",
    "};\n",
    "\n",
    "using (var client = new SmtpClient()) {\n",
    "    client.Connect(\"smtp.gmail.com\", 587);\n",
    "\n",
    "    client.AuthenticationMechanisms.Remove(\"XOAUTH2\");\n",
    "\n",
    "    // Note: only needed if the SMTP server requires authentication.\n",
    "    client.Authenticate(DotNetEnv.Env.GetString(\"EMAIL__ACCOUNT\"), DotNetEnv.Env.GetString(\"APP__PASSWORD\"));\n",
    "\n",
    "    // client.Send(message);\n",
    "    client.Disconnect(true);\n",
    "}\n",
    "\n",
    "Console.WriteLine(\">> Sent.\");"
   ]
  },
  {
   "attachments": {},
   "cell_type": "markdown",
   "metadata": {},
   "source": [
    "## Gather Data From Specific Email\n",
    "- [ ] Create, address, send\n",
    "- [ ] Check messages\n",
    "- [ ] Read (text-to-speech)\n",
    "- [ ] Delete mail\n",
    "- [ ] Reply "
   ]
  },
  {
   "attachments": {},
   "cell_type": "markdown",
   "metadata": {},
   "source": [
    "#### Checks Email"
   ]
  },
  {
   "cell_type": "code",
   "execution_count": 47,
   "metadata": {
    "dotnet_interactive": {
     "language": "csharp"
    },
    "polyglot_notebook": {
     "kernelName": "csharp"
    },
    "vscode": {
     "languageId": "polyglot-notebook"
    }
   },
   "outputs": [],
   "source": [
    "// TODO: Pull recent emails from Gmail and announce new messages via TTS. "
   ]
  },
  {
   "attachments": {},
   "cell_type": "markdown",
   "metadata": {},
   "source": [
    "#### Deletes Email"
   ]
  },
  {
   "cell_type": "code",
   "execution_count": 48,
   "metadata": {
    "dotnet_interactive": {
     "language": "csharp"
    },
    "polyglot_notebook": {
     "kernelName": "csharp"
    },
    "vscode": {
     "languageId": "polyglot-notebook"
    }
   },
   "outputs": [],
   "source": [
    "// Delete Single Email"
   ]
  },
  {
   "attachments": {},
   "cell_type": "markdown",
   "metadata": {},
   "source": [
    "#### Reads Email Headers"
   ]
  },
  {
   "cell_type": "code",
   "execution_count": 49,
   "metadata": {
    "dotnet_interactive": {
     "language": "csharp"
    },
    "polyglot_notebook": {
     "kernelName": "csharp"
    },
    "vscode": {
     "languageId": "polyglot-notebook"
    }
   },
   "outputs": [
    {
     "name": "stdout",
     "output_type": "stream",
     "text": [
      "Date Sent: 3/23/2023 7:30:20 AM +00:00\n",
      "Sender Name: \"Google\" <no-reply@accounts.google.com>\n",
      "Sender Address: no-reply@accounts.google.com\n",
      "Subject Line: Recovery email verified for your Google Account\n"
     ]
    }
   ],
   "source": [
    "// Gather Information from Emails\n",
    "\n",
    "using (var client = new ImapClient ()) {\n",
    "    client.Connect (\"imap.gmail.com\", 993, true);\n",
    "\n",
    "    client.Authenticate (DotNetEnv.Env.GetString(\"EMAIL__ACCOUNT\"), DotNetEnv.Env.GetString(\"APP__PASSWORD\"));\n",
    "\n",
    "    // new function for getting the inbox email headers given email number\n",
    "\n",
    "    var inbox = client.Inbox;\n",
    "    inbox.Open (FolderAccess.ReadOnly);\n",
    "\n",
    "    // Email header number\n",
    "\n",
    "    var emailNumber = 1;\n",
    "    var message = inbox.GetMessage (emailNumber);\n",
    "\n",
    "    // Date and time sent\n",
    "\n",
    "    var dateSent = message.Date;\n",
    "    Console.WriteLine(\"Date Sent: {0}\", dateSent);\n",
    "\n",
    "    // Sender's display name\n",
    "\n",
    "    var senderName = message.From;\n",
    "    Console.WriteLine(\"Sender Name: {0}\", senderName);\n",
    "\n",
    "    // Sender's address\n",
    "    var senderAddress = message.From.Mailboxes.FirstOrDefault().Address;\n",
    "    Console.WriteLine(\"Sender Address: {0}\", senderAddress);\n",
    "\n",
    "    // Email subject line\n",
    "\n",
    "    var subjectLine = message.Subject;\n",
    "    Console.WriteLine(\"Subject Line: {0}\", subjectLine);\n",
    "\n",
    "    client.Disconnect (true);\n",
    "}"
   ]
  },
  {
   "attachments": {},
   "cell_type": "markdown",
   "metadata": {},
   "source": [
    "##### Reads Email"
   ]
  },
  {
   "cell_type": "code",
   "execution_count": 50,
   "metadata": {
    "dotnet_interactive": {
     "language": "csharp"
    },
    "polyglot_notebook": {
     "kernelName": "csharp"
    },
    "vscode": {
     "languageId": "polyglot-notebook"
    }
   },
   "outputs": [],
   "source": [
    "// TODO: Detect hyperlinks in email body and avoid reading them out loud."
   ]
  },
  {
   "attachments": {},
   "cell_type": "markdown",
   "metadata": {},
   "source": [
    "#### Replies to Email"
   ]
  },
  {
   "cell_type": "code",
   "execution_count": 51,
   "metadata": {
    "dotnet_interactive": {
     "language": "csharp"
    },
    "polyglot_notebook": {
     "kernelName": "csharp"
    },
    "vscode": {
     "languageId": "polyglot-notebook"
    }
   },
   "outputs": [
    {
     "name": "stdout",
     "output_type": "stream",
     "text": [
      "Reply to email number...\n",
      ">> NaN sent.\n"
     ]
    }
   ],
   "source": [
    "// Desired Email Number\n",
    "\n",
    "Console.WriteLine(\"Reply to email number...\");\n",
    "\n",
    "var emailNumber = \"NaN\";\n",
    "\n",
    "Console.WriteLine(\">> \" + emailNumber + \" sent.\");"
   ]
  },
  {
   "attachments": {},
   "cell_type": "markdown",
   "metadata": {},
   "source": [
    "#### Adds Email Address to Nickname"
   ]
  },
  {
   "cell_type": "code",
   "execution_count": 52,
   "metadata": {
    "dotnet_interactive": {
     "language": "csharp"
    },
    "polyglot_notebook": {
     "kernelName": "csharp"
    },
    "vscode": {
     "languageId": "polyglot-notebook"
    }
   },
   "outputs": [],
   "source": [
    "// vmAddressBook.cls"
   ]
  },
  {
   "attachments": {},
   "cell_type": "markdown",
   "metadata": {},
   "source": [
    "#### Ties Email Address to Nickname"
   ]
  },
  {
   "cell_type": "code",
   "execution_count": 53,
   "metadata": {
    "dotnet_interactive": {
     "language": "csharp"
    },
    "polyglot_notebook": {
     "kernelName": "csharp"
    },
    "vscode": {
     "languageId": "polyglot-notebook"
    }
   },
   "outputs": [],
   "source": [
    "// Accessible file storing nicknames + addresses (updated manually)."
   ]
  }
 ],
 "metadata": {
  "language_info": {
   "name": "python"
  },
  "orig_nbformat": 4
 },
 "nbformat": 4,
 "nbformat_minor": 2
}
