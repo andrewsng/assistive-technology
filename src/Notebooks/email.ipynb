{
 "cells": [
  {
   "attachments": {},
   "cell_type": "markdown",
   "metadata": {},
   "source": [
    "# Assistive Technology (2023-03-24)"
   ]
  },
  {
   "attachments": {},
   "cell_type": "markdown",
   "metadata": {},
   "source": [
    "## Email System"
   ]
  },
  {
   "attachments": {},
   "cell_type": "markdown",
   "metadata": {},
   "source": [
    "`Install-Package MailKit`"
   ]
  },
  {
   "cell_type": "code",
   "execution_count": 12,
   "metadata": {
    "dotnet_interactive": {
     "language": "csharp"
    },
    "polyglot_notebook": {
     "kernelName": "csharp"
    },
    "vscode": {
     "languageId": "polyglot-notebook"
    }
   },
   "outputs": [
    {
     "data": {
      "text/html": [
       "<div><div></div><div></div><div><strong>Installed Packages</strong><ul><li><span>DotNetEnv, 2.5.0</span></li><li><span>MailKit, 3.6.0</span></li></ul></div></div>"
      ]
     },
     "metadata": {},
     "output_type": "display_data"
    }
   ],
   "source": [
    "#r \"nuget:MailKit\"\n",
    "#r \"nuget:DotNetEnv\"\n",
    "\n",
    "// Load .env file\n",
    "DotNetEnv.Env.TraversePath().Load();"
   ]
  },
  {
   "attachments": {},
   "cell_type": "markdown",
   "metadata": {},
   "source": [
    "## Sending Mail"
   ]
  },
  {
   "cell_type": "code",
   "execution_count": 13,
   "metadata": {
    "dotnet_interactive": {
     "language": "csharp"
    },
    "polyglot_notebook": {
     "kernelName": "csharp"
    },
    "vscode": {
     "languageId": "polyglot-notebook"
    }
   },
   "outputs": [
    {
     "name": "stdout",
     "output_type": "stream",
     "text": [
      ">> Sending email to [LOCATION].\n",
      ">> Sent.\n"
     ]
    }
   ],
   "source": [
    "using MailKit.Net.Smtp;\n",
    "using MailKit;\n",
    "using MimeKit;\n",
    "\n",
    "var virtualMorseVersion = \"2023\";\n",
    "\n",
    "var message = new MimeMessage();\n",
    "message.From.Add(new MailboxAddress(\"Sender Name\", DotNetEnv.Env.GetString(\"EMAIL__ACCOUNT\") + \"@gmail.com\"));\n",
    "message.To.Add(new MailboxAddress(\"Receiver Name\", DotNetEnv.Env.GetString(\"EMAIL__ACCOUNT\") + \"@gmail.com\"));\n",
    "message.Subject = \"This message sent with Virtual Morse \" + virtualMorseVersion;\n",
    "\n",
    "message.Body = new TextPart(\"plain\") {\n",
    "    Text = @\"Testing contents of the message.\"\n",
    "};\n",
    "\n",
    "using (var client = new SmtpClient()) {\n",
    "    client.Connect(\"smtp.gmail.com\", 587);\n",
    "\n",
    "    client.AuthenticationMechanisms.Remove(\"XOAUTH2\");\n",
    "\n",
    "    // Note: only needed if the SMTP server requires authentication.\n",
    "    client.Authenticate(DotNetEnv.Env.GetString(\"EMAIL__ACCOUNT\"), DotNetEnv.Env.GetString(\"APP__PASSWORD\"));\n",
    "\n",
    "    // Speaks name & email destination (spells out email address).\n",
    "    Console.WriteLine(\">> Sending email to [LOCATION].\");\n",
    "\n",
    "    // client.Send(message);\n",
    "    client.Disconnect(true);\n",
    "}\n",
    "\n",
    "Console.WriteLine(\">> Sent.\");"
   ]
  },
  {
   "attachments": {},
   "cell_type": "markdown",
   "metadata": {},
   "source": [
    "## Gather Data From Specific Email\n",
    "- [ ] Create, address, send\n",
    "- [ ] Check messages\n",
    "- [ ] Read (text-to-speech)\n",
    "- [x] Delete mail\n",
    "- [ ] Reply "
   ]
  },
  {
   "attachments": {},
   "cell_type": "markdown",
   "metadata": {},
   "source": [
    "#### Checks Email"
   ]
  },
  {
   "cell_type": "code",
   "execution_count": 14,
   "metadata": {
    "dotnet_interactive": {
     "language": "csharp"
    },
    "polyglot_notebook": {
     "kernelName": "csharp"
    },
    "vscode": {
     "languageId": "polyglot-notebook"
    }
   },
   "outputs": [
    {
     "name": "stdout",
     "output_type": "stream",
     "text": [
      ">> Checking mail server...\n",
      ">> You have 0 unread emails.\n",
      ">> Total messages: 8\n"
     ]
    }
   ],
   "source": [
    "using MimeKit;\n",
    "using MailKit;\n",
    "using MailKit.Search;\n",
    "using MailKit.Net.Imap;\n",
    "\n",
    "using (var client = new ImapClient ()) {\n",
    "    client.Connect (\"imap.gmail.com\", 993, true);\n",
    "\n",
    "    client.Authenticate(DotNetEnv.Env.GetString(\"EMAIL__ACCOUNT\"), DotNetEnv.Env.GetString(\"APP__PASSWORD\"));\n",
    "\n",
    "    var inbox = client.Inbox;\n",
    "    inbox.Open (FolderAccess.ReadOnly);\n",
    "\n",
    "    Console.WriteLine(\">> Checking mail server...\");\n",
    "\n",
    "    var unreadEmails = inbox.Search (SearchQuery.NotSeen);\n",
    "\n",
    "    if (unreadEmails.Count == 1) {\n",
    "        Console.WriteLine(\">> You have {0} unread email.\", unreadEmails.Count);\n",
    "    } else {\n",
    "        Console.WriteLine(\">> You have {0} unread emails.\", unreadEmails.Count);\n",
    "    }\n",
    "\n",
    "    var totalMessages = inbox.Count;\n",
    "\n",
    "    // FIXME: How to deal with threaded conversations within the inbox.\n",
    "\n",
    "    Console.WriteLine(\">> Total messages: {0}\", totalMessages);\n",
    "\n",
    "    client.Disconnect(true);\n",
    "}"
   ]
  },
  {
   "attachments": {},
   "cell_type": "markdown",
   "metadata": {},
   "source": [
    "#### Deletes Email"
   ]
  },
  {
   "cell_type": "code",
   "execution_count": 15,
   "metadata": {
    "dotnet_interactive": {
     "language": "csharp"
    },
    "polyglot_notebook": {
     "kernelName": "csharp"
    },
    "vscode": {
     "languageId": "polyglot-notebook"
    }
   },
   "outputs": [
    {
     "name": "stdout",
     "output_type": "stream",
     "text": [
      ">> Deleted.\n"
     ]
    }
   ],
   "source": [
    "// Delete Single Email\n",
    "// https://github.com/jstedfast/MailKit/issues/552\n",
    "\n",
    "using (var client = new ImapClient ()) {\n",
    "    client.Connect (\"imap.gmail.com\", 993, true);\n",
    "\n",
    "    client.Authenticate(DotNetEnv.Env.GetString(\"EMAIL__ACCOUNT\"), DotNetEnv.Env.GetString(\"APP__PASSWORD\"));\n",
    "\n",
    "    var inbox = client.Inbox;\n",
    "    inbox.Open(FolderAccess.ReadWrite);\n",
    "\n",
    "    var emailNumber = 7;\n",
    "\n",
    "    inbox.AddFlags(emailNumber, MessageFlags.Deleted, true);\n",
    "\n",
    "    inbox.Expunge();\n",
    "\n",
    "    Console.WriteLine(\">> Deleted.\");\n",
    "\n",
    "    client.Disconnect (true);\n",
    "}"
   ]
  },
  {
   "attachments": {},
   "cell_type": "markdown",
   "metadata": {},
   "source": [
    "#### Reads Email Headers"
   ]
  },
  {
   "cell_type": "code",
   "execution_count": 16,
   "metadata": {
    "dotnet_interactive": {
     "language": "csharp"
    },
    "polyglot_notebook": {
     "kernelName": "csharp"
    },
    "vscode": {
     "languageId": "polyglot-notebook"
    }
   },
   "outputs": [
    {
     "name": "stdout",
     "output_type": "stream",
     "text": [
      "Date Sent: 3/23/2023 7:30:20 AM +00:00\n",
      "Sender Name: \"Google\" <no-reply@accounts.google.com>\n",
      "Sender Address: no-reply@accounts.google.com\n",
      "Subject Line: Recovery email verified for your Google Account\n"
     ]
    }
   ],
   "source": [
    "using (var client = new ImapClient ()) {\n",
    "    client.Connect (\"imap.gmail.com\", 993, true);\n",
    "\n",
    "    client.Authenticate (DotNetEnv.Env.GetString(\"EMAIL__ACCOUNT\"), DotNetEnv.Env.GetString(\"APP__PASSWORD\"));\n",
    "\n",
    "    var inbox = client.Inbox;\n",
    "    inbox.Open (FolderAccess.ReadOnly);\n",
    "\n",
    "    // Email header number \n",
    "    // Oldest email = 1 vs. newest email = nth inbox location.\n",
    "\n",
    "    var emailNumber = 1;\n",
    "    var message = inbox.GetMessage(emailNumber);\n",
    "    var dateSent = message.Date;\n",
    "    var senderName = message.From;\n",
    "    var senderAddress = message.From.Mailboxes.FirstOrDefault().Address;\n",
    "    var subjectLine = message.Subject;\n",
    "\n",
    "    Console.WriteLine(\"Date Sent: {0}\", dateSent);\n",
    "    Console.WriteLine(\"Sender Name: {0}\", senderName);\n",
    "    Console.WriteLine(\"Sender Address: {0}\", senderAddress);\n",
    "    Console.WriteLine(\"Subject Line: {0}\", subjectLine);\n",
    "\n",
    "    client.Disconnect (true);\n",
    "}"
   ]
  },
  {
   "attachments": {},
   "cell_type": "markdown",
   "metadata": {},
   "source": [
    "#### Reads Email"
   ]
  },
  {
   "cell_type": "code",
   "execution_count": 22,
   "metadata": {
    "dotnet_interactive": {
     "language": "csharp"
    },
    "polyglot_notebook": {
     "kernelName": "csharp"
    },
    "vscode": {
     "languageId": "polyglot-notebook"
    }
   },
   "outputs": [
    {
     "name": "stdout",
     "output_type": "stream",
     "text": [
      "Body: Lorem ipsum dolor sit amet.\n",
      "\n"
     ]
    }
   ],
   "source": [
    "using (var client = new ImapClient ()) {\n",
    "    client.Connect (\"imap.gmail.com\", 993, true);\n",
    "\n",
    "    client.Authenticate (DotNetEnv.Env.GetString(\"EMAIL__ACCOUNT\"), DotNetEnv.Env.GetString(\"APP__PASSWORD\"));\n",
    "\n",
    "    var inbox = client.Inbox;\n",
    "    inbox.Open(FolderAccess.ReadOnly);\n",
    "\n",
    "    // Email header number \n",
    "    // Oldest email = 1 vs. newest email = nth inbox location.\n",
    "\n",
    "    // Decrement emailNumber by 1 to get the correct email header number.\n",
    "    var emailNumber = 7;\n",
    "    emailNumber--;\n",
    "\n",
    "    var message = inbox.GetMessage(emailNumber);\n",
    "    var body = message.TextBody;\n",
    "\n",
    "    // TODO: Detect hyperlinks in email body and avoid reading them out loud.\n",
    "\n",
    "    Console.WriteLine(\"Body: {0}\", body);\n",
    "\n",
    "    client.Disconnect(true);\n",
    "}"
   ]
  },
  {
   "attachments": {},
   "cell_type": "markdown",
   "metadata": {},
   "source": [
    "#### Replies to Email"
   ]
  },
  {
   "cell_type": "code",
   "execution_count": 18,
   "metadata": {
    "dotnet_interactive": {
     "language": "csharp"
    },
    "polyglot_notebook": {
     "kernelName": "csharp"
    },
    "vscode": {
     "languageId": "polyglot-notebook"
    }
   },
   "outputs": [
    {
     "name": "stdout",
     "output_type": "stream",
     "text": [
      ">> Sample text.\n",
      ">> -1 is the email number entered.\n",
      ">> Reply to email number -1 from [CONTACT_NAME] [EMAIL_ADDRESS].\n",
      ">> Reply to [CONTACT_NAME] has been sent.\n",
      ">> Reply to [CONTACT_NAME] has been cancelled.\n",
      ">> -1 sent.\n"
     ]
    }
   ],
   "source": [
    "// PROGRAM STRUCTURE\n",
    "\n",
    "// 1. Content\n",
    "\n",
    "var content = \"Sample text.\";\n",
    "Console.WriteLine(\">> \" + content);\n",
    "\n",
    "// 2. Index Number (# of email).\n",
    "\n",
    "var emailNumber = 0;\n",
    "// Always decrement emailNumber by 1 to get the correct email header number.\n",
    "emailNumber--;\n",
    "\n",
    "Console.WriteLine(\">> \" + emailNumber + \" is the email number entered.\");\n",
    "\n",
    "// 3. Keyed Letter\n",
    "\n",
    "// 4. Command Switch\n",
    "\n",
    "// 5. Program Speaks\n",
    "\n",
    "Console.WriteLine(\">> Reply to email number \" + emailNumber + \" from [CONTACT_NAME] [EMAIL_ADDRESS].\");\n",
    "\n",
    "// 5a. Space Pressed\n",
    "\n",
    "Console.WriteLine(\">> Reply to [CONTACT_NAME] has been sent.\");\n",
    "\n",
    "// 5b. Backspace Pressed\n",
    "\n",
    "Console.WriteLine(\">> Reply to [CONTACT_NAME] has been cancelled.\");\n",
    "\n",
    "// Email Improvements\n",
    "\n",
    "// TODO: Read through content & distinguish original message from reply or pause.\n",
    "\n",
    "Console.WriteLine(\">> \" + emailNumber + \" sent.\");"
   ]
  },
  {
   "attachments": {},
   "cell_type": "markdown",
   "metadata": {},
   "source": [
    "#### Adds Email Address to Nickname"
   ]
  },
  {
   "cell_type": "code",
   "execution_count": 36,
   "metadata": {
    "dotnet_interactive": {
     "language": "csharp"
    },
    "polyglot_notebook": {
     "kernelName": "csharp"
    },
    "vscode": {
     "languageId": "polyglot-notebook"
    }
   },
   "outputs": [
    {
     "name": "stdout",
     "output_type": "stream",
     "text": [
      "Nickname email@example.com\n",
      "\n",
      ">> Nickname entered: John Doe\n"
     ]
    }
   ],
   "source": [
    "// vmAddressBook.cls\n",
    "\n",
    "using System;\n",
    "using System.IO;\n",
    "\n",
    "string contents = File.ReadAllText(\"AddressBook.txt\");\n",
    "\n",
    "// Pull data from AddressBook.txt, split on space into key value pairs.\n",
    "\n",
    "Console.WriteLine(contents);\n",
    "\n",
    "// Create dictionary to store data.\n",
    "\n",
    "var addressBook = new Dictionary<string, string>();\n",
    "\n",
    "// Refresh with values from text file.\n",
    "\n",
    "var split = contents.Split(' ');\n",
    "\n",
    "// Add values to dictionary.\n",
    "\n",
    "addressBook.Add(split[0], split[1]);\n",
    "\n",
    "// Nickname vs. Email (User Input)\n",
    "\n",
    "var nickname = \"John Doe\";\n",
    "var email = \"name@example.com\";\n",
    "\n",
    "addressBook.Add(nickname, email);\n",
    "\n",
    "// Export results to file.\n",
    "\n",
    "Console.WriteLine(\">> Nickname entered: \" + nickname);\n",
    "\n",
    "// TODO: Update value in text file."
   ]
  },
  {
   "attachments": {},
   "cell_type": "markdown",
   "metadata": {},
   "source": [
    "#### Ties Email Address to Nickname"
   ]
  },
  {
   "cell_type": "code",
   "execution_count": 23,
   "metadata": {
    "dotnet_interactive": {
     "language": "csharp"
    },
    "polyglot_notebook": {
     "kernelName": "csharp"
    },
    "vscode": {
     "languageId": "polyglot-notebook"
    }
   },
   "outputs": [
    {
     "name": "stdout",
     "output_type": "stream",
     "text": [
      ">> Added Email Address\n",
      ">> [SPEAK COMPLETE ADDRESS]\n"
     ]
    }
   ],
   "source": [
    "// Accessible file storing nicknames + addresses (updated manually).\n",
    "\n",
    "Console.WriteLine(\">> Added Email Address\");\n",
    "\n",
    "Console.WriteLine(\">> [SPEAK COMPLETE ADDRESS]\");"
   ]
  }
 ],
 "metadata": {
  "language_info": {
   "name": "python"
  },
  "orig_nbformat": 4
 },
 "nbformat": 4,
 "nbformat_minor": 2
}
