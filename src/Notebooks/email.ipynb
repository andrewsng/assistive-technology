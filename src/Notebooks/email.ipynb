{
 "cells": [
  {
   "attachments": {},
   "cell_type": "markdown",
   "metadata": {},
   "source": [
    "# Assistive Technology (2023-03-24)"
   ]
  },
  {
   "attachments": {},
   "cell_type": "markdown",
   "metadata": {},
   "source": [
    "## Email System"
   ]
  },
  {
   "attachments": {},
   "cell_type": "markdown",
   "metadata": {},
   "source": [
    "`Install-Package MailKit`"
   ]
  },
  {
   "cell_type": "code",
   "execution_count": 12,
   "metadata": {
    "dotnet_interactive": {
     "language": "csharp"
    },
    "polyglot_notebook": {
     "kernelName": "csharp"
    },
    "vscode": {
     "languageId": "polyglot-notebook"
    }
   },
   "outputs": [
    {
     "data": {
      "text/html": [
       "<div><div></div><div></div><div><strong>Installed Packages</strong><ul><li><span>CsvHelper, 30.0.1</span></li><li><span>DotNetEnv, 2.5.0</span></li><li><span>MailKit, 3.6.0</span></li></ul></div></div>"
      ]
     },
     "metadata": {},
     "output_type": "display_data"
    }
   ],
   "source": [
    "#r \"nuget:MailKit\"\n",
    "#r \"nuget:DotNetEnv\"\n",
    "#r \"nuget:CsvHelper\"\n",
    "\n",
    "// Load .env file\n",
    "DotNetEnv.Env.TraversePath().Load();"
   ]
  },
  {
   "attachments": {},
   "cell_type": "markdown",
   "metadata": {},
   "source": [
    "## Sending Mail"
   ]
  },
  {
   "cell_type": "code",
   "execution_count": 2,
   "metadata": {
    "dotnet_interactive": {
     "language": "csharp"
    },
    "polyglot_notebook": {
     "kernelName": "csharp"
    },
    "vscode": {
     "languageId": "polyglot-notebook"
    }
   },
   "outputs": [
    {
     "name": "stdout",
     "output_type": "stream",
     "text": [
      ">> Sending email to [LOCATION].\n",
      ">> Sent.\n"
     ]
    }
   ],
   "source": [
    "using MailKit.Net.Smtp;\n",
    "using MailKit;\n",
    "using MimeKit;\n",
    "\n",
    "var virtualMorseVersion = \"2023\";\n",
    "\n",
    "var message = new MimeMessage();\n",
    "message.From.Add(new MailboxAddress(\"Sender Name\", DotNetEnv.Env.GetString(\"EMAIL__ACCOUNT\") + \"@gmail.com\"));\n",
    "message.To.Add(new MailboxAddress(\"Receiver Name\", DotNetEnv.Env.GetString(\"EMAIL__ACCOUNT\") + \"@gmail.com\"));\n",
    "message.Subject = \"This message sent with Virtual Morse \" + virtualMorseVersion;\n",
    "\n",
    "message.Body = new TextPart(\"plain\") {\n",
    "    Text = @\"Testing contents of the message.\"\n",
    "};\n",
    "\n",
    "using (var client = new SmtpClient()) {\n",
    "    client.Connect(\"smtp.gmail.com\", 587);\n",
    "\n",
    "    client.AuthenticationMechanisms.Remove(\"XOAUTH2\");\n",
    "\n",
    "    // Note: only needed if the SMTP server requires authentication.\n",
    "    client.Authenticate(DotNetEnv.Env.GetString(\"EMAIL__ACCOUNT\"), DotNetEnv.Env.GetString(\"APP__PASSWORD\"));\n",
    "\n",
    "    // Speaks name & email destination (spells out email address).\n",
    "    Console.WriteLine(\">> Sending email to [LOCATION].\");\n",
    "\n",
    "    // client.Send(message);\n",
    "    client.Disconnect(true);\n",
    "}\n",
    "\n",
    "Console.WriteLine(\">> Sent.\");"
   ]
  },
  {
   "attachments": {},
   "cell_type": "markdown",
   "metadata": {},
   "source": [
    "## Gather Data From Specific Email\n",
    "- [ ] Create, address, send\n",
    "- [ ] Check messages\n",
    "- [ ] Read (text-to-speech)\n",
    "- [x] Delete mail\n",
    "- [ ] Reply "
   ]
  },
  {
   "attachments": {},
   "cell_type": "markdown",
   "metadata": {},
   "source": [
    "#### Checks Email"
   ]
  },
  {
   "cell_type": "code",
   "execution_count": 3,
   "metadata": {
    "dotnet_interactive": {
     "language": "csharp"
    },
    "polyglot_notebook": {
     "kernelName": "csharp"
    },
    "vscode": {
     "languageId": "polyglot-notebook"
    }
   },
   "outputs": [
    {
     "name": "stdout",
     "output_type": "stream",
     "text": [
      ">> Checking mail server...\n",
      ">> You have 0 unread emails.\n",
      ">> Total messages: 7\n"
     ]
    }
   ],
   "source": [
    "using MimeKit;\n",
    "using MailKit;\n",
    "using MailKit.Search;\n",
    "using MailKit.Net.Imap;\n",
    "\n",
    "using (var client = new ImapClient ()) {\n",
    "    client.Connect (\"imap.gmail.com\", 993, true);\n",
    "\n",
    "    client.Authenticate(DotNetEnv.Env.GetString(\"EMAIL__ACCOUNT\"), DotNetEnv.Env.GetString(\"APP__PASSWORD\"));\n",
    "\n",
    "    var inbox = client.Inbox;\n",
    "    inbox.Open (FolderAccess.ReadOnly);\n",
    "\n",
    "    Console.WriteLine(\">> Checking mail server...\");\n",
    "\n",
    "    var unreadEmails = inbox.Search (SearchQuery.NotSeen);\n",
    "\n",
    "    if (unreadEmails.Count == 1) {\n",
    "        Console.WriteLine(\">> You have {0} unread email.\", unreadEmails.Count);\n",
    "    } else {\n",
    "        Console.WriteLine(\">> You have {0} unread emails.\", unreadEmails.Count);\n",
    "    }\n",
    "\n",
    "    var totalMessages = inbox.Count;\n",
    "\n",
    "    // FIXME: How to deal with threaded conversations within the inbox.\n",
    "\n",
    "    Console.WriteLine(\">> Total messages: {0}\", totalMessages);\n",
    "\n",
    "    client.Disconnect(true);\n",
    "}"
   ]
  },
  {
   "attachments": {},
   "cell_type": "markdown",
   "metadata": {},
   "source": [
    "#### Deletes Email"
   ]
  },
  {
   "cell_type": "code",
   "execution_count": 4,
   "metadata": {
    "dotnet_interactive": {
     "language": "csharp"
    },
    "polyglot_notebook": {
     "kernelName": "csharp"
    },
    "vscode": {
     "languageId": "polyglot-notebook"
    }
   },
   "outputs": [
    {
     "name": "stdout",
     "output_type": "stream",
     "text": [
      ">> Deleted.\n"
     ]
    }
   ],
   "source": [
    "// Delete Single Email\n",
    "// https://github.com/jstedfast/MailKit/issues/552\n",
    "\n",
    "using (var client = new ImapClient ()) {\n",
    "    client.Connect (\"imap.gmail.com\", 993, true);\n",
    "\n",
    "    client.Authenticate(DotNetEnv.Env.GetString(\"EMAIL__ACCOUNT\"), DotNetEnv.Env.GetString(\"APP__PASSWORD\"));\n",
    "\n",
    "    var inbox = client.Inbox;\n",
    "    inbox.Open(FolderAccess.ReadWrite);\n",
    "\n",
    "    var emailNumber = 7;\n",
    "\n",
    "    inbox.AddFlags(emailNumber, MessageFlags.Deleted, true);\n",
    "\n",
    "    inbox.Expunge();\n",
    "\n",
    "    Console.WriteLine(\">> Deleted.\");\n",
    "\n",
    "    client.Disconnect (true);\n",
    "}"
   ]
  },
  {
   "attachments": {},
   "cell_type": "markdown",
   "metadata": {},
   "source": [
    "#### Reads Email Headers"
   ]
  },
  {
   "cell_type": "code",
   "execution_count": 5,
   "metadata": {
    "dotnet_interactive": {
     "language": "csharp"
    },
    "polyglot_notebook": {
     "kernelName": "csharp"
    },
    "vscode": {
     "languageId": "polyglot-notebook"
    }
   },
   "outputs": [
    {
     "name": "stdout",
     "output_type": "stream",
     "text": [
      "Date Sent: 3/23/2023 7:30:20 AM +00:00\n",
      "Sender Name: \"Google\" <no-reply@accounts.google.com>\n",
      "Sender Address: no-reply@accounts.google.com\n",
      "Subject Line: Recovery email verified for your Google Account\n"
     ]
    }
   ],
   "source": [
    "using (var client = new ImapClient ()) {\n",
    "    client.Connect (\"imap.gmail.com\", 993, true);\n",
    "\n",
    "    client.Authenticate (DotNetEnv.Env.GetString(\"EMAIL__ACCOUNT\"), DotNetEnv.Env.GetString(\"APP__PASSWORD\"));\n",
    "\n",
    "    var inbox = client.Inbox;\n",
    "    inbox.Open (FolderAccess.ReadOnly);\n",
    "\n",
    "    // Email header number \n",
    "    // Oldest email = 1 vs. newest email = nth inbox location.\n",
    "\n",
    "    var emailNumber = 1;\n",
    "    var message = inbox.GetMessage(emailNumber);\n",
    "    var dateSent = message.Date;\n",
    "    var senderName = message.From;\n",
    "    var senderAddress = message.From.Mailboxes.FirstOrDefault().Address;\n",
    "    var subjectLine = message.Subject;\n",
    "\n",
    "    Console.WriteLine(\"Date Sent: {0}\", dateSent);\n",
    "    Console.WriteLine(\"Sender Name: {0}\", senderName);\n",
    "    Console.WriteLine(\"Sender Address: {0}\", senderAddress);\n",
    "    Console.WriteLine(\"Subject Line: {0}\", subjectLine);\n",
    "\n",
    "    client.Disconnect (true);\n",
    "}"
   ]
  },
  {
   "attachments": {},
   "cell_type": "markdown",
   "metadata": {},
   "source": [
    "#### Reads Email"
   ]
  },
  {
   "cell_type": "code",
   "execution_count": 6,
   "metadata": {
    "dotnet_interactive": {
     "language": "csharp"
    },
    "polyglot_notebook": {
     "kernelName": "csharp"
    },
    "vscode": {
     "languageId": "polyglot-notebook"
    }
   },
   "outputs": [
    {
     "name": "stdout",
     "output_type": "stream",
     "text": [
      "Body: Lorem ipsum dolor sit amet.\n",
      "\n"
     ]
    }
   ],
   "source": [
    "using (var client = new ImapClient ()) {\n",
    "    client.Connect (\"imap.gmail.com\", 993, true);\n",
    "\n",
    "    client.Authenticate (DotNetEnv.Env.GetString(\"EMAIL__ACCOUNT\"), DotNetEnv.Env.GetString(\"APP__PASSWORD\"));\n",
    "\n",
    "    var inbox = client.Inbox;\n",
    "    inbox.Open(FolderAccess.ReadOnly);\n",
    "\n",
    "    // Email header number \n",
    "    // Oldest email = 1 vs. newest email = nth inbox location.\n",
    "\n",
    "    // Decrement emailNumber by 1 to get the correct email header number.\n",
    "    var emailNumber = 7;\n",
    "    emailNumber--;\n",
    "\n",
    "    var message = inbox.GetMessage(emailNumber);\n",
    "    var body = message.TextBody;\n",
    "\n",
    "    // TODO: Detect hyperlinks in email body and avoid reading them out loud.\n",
    "\n",
    "    Console.WriteLine(\"Body: {0}\", body);\n",
    "\n",
    "    client.Disconnect(true);\n",
    "}"
   ]
  },
  {
   "attachments": {},
   "cell_type": "markdown",
   "metadata": {},
   "source": [
    "#### Replies to Email"
   ]
  },
  {
   "cell_type": "code",
   "execution_count": 7,
   "metadata": {
    "dotnet_interactive": {
     "language": "csharp"
    },
    "polyglot_notebook": {
     "kernelName": "csharp"
    },
    "vscode": {
     "languageId": "polyglot-notebook"
    }
   },
   "outputs": [
    {
     "name": "stdout",
     "output_type": "stream",
     "text": [
      ">> Sample text.\n",
      ">> -1 is the email number entered.\n",
      ">> Reply to email number -1 from [CONTACT_NAME] [EMAIL_ADDRESS].\n",
      ">> Reply to [CONTACT_NAME] has been sent.\n",
      ">> Reply to [CONTACT_NAME] has been cancelled.\n",
      ">> -1 sent.\n"
     ]
    }
   ],
   "source": [
    "// PROGRAM STRUCTURE\n",
    "\n",
    "// 1. Content\n",
    "\n",
    "var content = \"Sample text.\";\n",
    "Console.WriteLine(\">> \" + content);\n",
    "\n",
    "// 2. Index Number (# of email).\n",
    "\n",
    "var emailNumber = 0;\n",
    "// Always decrement emailNumber by 1 to get the correct email header number.\n",
    "emailNumber--;\n",
    "\n",
    "Console.WriteLine(\">> \" + emailNumber + \" is the email number entered.\");\n",
    "\n",
    "// 3. Keyed Letter\n",
    "\n",
    "// 4. Command Switch\n",
    "\n",
    "// 5. Program Speaks\n",
    "\n",
    "Console.WriteLine(\">> Reply to email number \" + emailNumber + \" from [CONTACT_NAME] [EMAIL_ADDRESS].\");\n",
    "\n",
    "// 5a. Space Pressed\n",
    "\n",
    "Console.WriteLine(\">> Reply to [CONTACT_NAME] has been sent.\");\n",
    "\n",
    "// 5b. Backspace Pressed\n",
    "\n",
    "Console.WriteLine(\">> Reply to [CONTACT_NAME] has been cancelled.\");\n",
    "\n",
    "// Email Improvements\n",
    "\n",
    "// TODO: Read through content & distinguish original message from reply or pause.\n",
    "\n",
    "Console.WriteLine(\">> \" + emailNumber + \" sent.\");"
   ]
  },
  {
   "attachments": {},
   "cell_type": "markdown",
   "metadata": {},
   "source": [
    "#### Adds Email Address to Nickname"
   ]
  },
  {
   "cell_type": "code",
   "execution_count": 14,
   "metadata": {
    "dotnet_interactive": {
     "language": "csharp"
    },
    "polyglot_notebook": {
     "kernelName": "csharp"
    },
    "vscode": {
     "languageId": "polyglot-notebook"
    }
   },
   "outputs": [
    {
     "name": "stdout",
     "output_type": "stream",
     "text": [
      "John Doe\n",
      "name@example.com\n",
      "Alice\n",
      "alice@example.com\n",
      "Bob\n",
      "bob@example.com\n",
      "Assistive Technology\n",
      "noreply@alaska.edu\n"
     ]
    }
   ],
   "source": [
    "using System.IO;\n",
    "using CsvHelper;\n",
    "using CsvHelper.Configuration;\n",
    "using System.Globalization;\n",
    "\n",
    "public class AddressBook\n",
    "{\n",
    "    public string Nickname { get; set; }\n",
    "    public string Email { get; set; }\n",
    "\n",
    "}\n",
    "\n",
    "// Relative file path.\n",
    "var pathToAddressBook = \"AddressBook.csv\";\n",
    "\n",
    "using (var reader = new StreamReader(pathToAddressBook)) {\n",
    "    using (var csv = new CsvReader(reader, CultureInfo.InvariantCulture)) {\n",
    "        var records = csv.GetRecords<AddressBook>();\n",
    "\n",
    "        // Print out all records.\n",
    "        records.ToList().ForEach(record => {\n",
    "            Console.WriteLine(record.Nickname);\n",
    "            Console.WriteLine(record.Email);\n",
    "        });\n",
    "    }\n",
    "}"
   ]
  },
  {
   "attachments": {},
   "cell_type": "markdown",
   "metadata": {},
   "source": [
    "#### Ties Email Address to Nickname"
   ]
  },
  {
   "cell_type": "code",
   "execution_count": 15,
   "metadata": {
    "dotnet_interactive": {
     "language": "csharp"
    },
    "polyglot_notebook": {
     "kernelName": "csharp"
    },
    "vscode": {
     "languageId": "polyglot-notebook"
    }
   },
   "outputs": [
    {
     "name": "stdout",
     "output_type": "stream",
     "text": [
      ">> Added Email Address\n",
      ">> [SPEAK COMPLETE ADDRESS]\n"
     ]
    }
   ],
   "source": [
    "// Accessible file storing nicknames + addresses (updated manually).\n",
    "\n",
    "var records = new List<AddressBook>\n",
    "{\n",
    "    new AddressBook { Nickname = \"Assistive Technology\", Email = \"noreply@alaska.edu\" },\n",
    "};\n",
    "\n",
    "using (var writer = new StreamWriter(pathToAddressBook, true)) {\n",
    "    using (var csv = new CsvWriter(writer, CultureInfo.InvariantCulture)) {\n",
    "        // https://joshclose.github.io/CsvHelper/getting-started/#writing-a-csv-file\n",
    "        // csv.WriteHeader<AddressBook>();\n",
    "\n",
    "        // csv.NextRecord();\n",
    "        foreach (var record in records) {\n",
    "            csv.WriteRecord(record);\n",
    "            csv.NextRecord();\n",
    "        }\n",
    "    }\n",
    "}\n",
    "\n",
    "Console.WriteLine(\">> Added Email Address\");\n",
    "\n",
    "Console.WriteLine(\">> [SPEAK COMPLETE ADDRESS]\");"
   ]
  }
 ],
 "metadata": {
  "language_info": {
   "name": "python"
  },
  "orig_nbformat": 4
 },
 "nbformat": 4,
 "nbformat_minor": 2
}
